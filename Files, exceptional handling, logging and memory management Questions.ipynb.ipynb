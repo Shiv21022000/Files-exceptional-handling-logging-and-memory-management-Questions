{
  "nbformat": 4,
  "nbformat_minor": 0,
  "metadata": {
    "colab": {
      "provenance": []
    },
    "kernelspec": {
      "name": "python3",
      "display_name": "Python 3"
    },
    "language_info": {
      "name": "python"
    }
  },
  "cells": [
    {
      "cell_type": "markdown",
      "source": [
        "## Files, exceptional handling, logging and V memory management Questions"
      ],
      "metadata": {
        "id": "dIBBLJSidlu4"
      }
    },
    {
      "cell_type": "markdown",
      "source": [
        "#### 1. What is the difference between interpreted and compiled languages?\n",
        "- Interpreted languages (like Python) execute code line by line using an interpreter.\n",
        "\n",
        "- Compiled languages (like C++) are translated into machine code before execution using a compiler.\n",
        "\n",
        "- Interpreted languages are easier to debug but slower in performance.\n",
        "\n",
        "### 2. What is exception handling in Python?\n",
        "Exception handling in Python allows the program to catch and manage runtime errors using try, except, else, and finally blocks to avoid crashes.\n",
        "\n",
        "### 3. What is the purpose of the finally block in exception handling?\n",
        "The finally block executes code regardless of whether an exception occurred or not. It's often used for cleanup actions like closing files or releasing resources.\n",
        "\n",
        "### 4. What is logging in Python?\n",
        "Logging is the process of recording events that happen when software runs. Python’s logging module helps track errors, warnings, and other events for debugging and monitoring.\n",
        "\n",
        "### 5. What is the significance of the __del__ method in Python?\n",
        "The __del__ method is a destructor method that gets called when an object is about to be destroyed. It’s used to release external resources like files or database connections.\n",
        "\n",
        "### 6. What is the difference between import and from ... import in Python?\n",
        "- import module imports the whole module.\n",
        "\n",
        "- from module import name imports a specific part (function, class, variable) of the module.\n",
        "\n",
        "### 7. How can you handle multiple exceptions in Python?\n",
        "Use multiple except blocks:\n",
        "\n",
        "\n",
        "try:\n",
        "    ...\n",
        "except ValueError:\n",
        "    ...\n",
        "except TypeError:\n",
        "    ...\n",
        "\n",
        "    \n",
        "######Or combine exceptions:\n",
        "\n",
        "\n",
        "except (ValueError, TypeError) as e:\n",
        "    ...\n",
        "### 8. What is the purpose of the with statement when handling files in Python?\n",
        "The with statement ensures that resources like files are properly opened and closed automatically, even if an error occurs.\n",
        "\n",
        "\n",
        "with open('file.txt') as f:\n",
        "    data = f.read()\n",
        "### 9. What is the difference between multithreading and multiprocessing?\n",
        "- Multithreading: Multiple threads share the same memory space; suitable for I/O-bound tasks.\n",
        "\n",
        "- Multiprocessing: Uses separate memory space and CPU cores; ideal for CPU-bound tasks.\n",
        "\n",
        "### 10. What are the advantages of using logging in a program?\n",
        "- Helps with debugging and tracing errors.\n",
        "\n",
        "- Keeps a record of application events.\n",
        "\n",
        "- More flexible than print statements.\n",
        "\n",
        "### 11. What is memory management in Python?\n",
        "Memory management involves allocating and freeing memory during program execution. Python handles this using private heap space and a garbage collector.\n",
        "\n",
        "### 12. What are the basic steps involved in exception handling in Python?\n",
        "- Use try to wrap code that might raise an exception.\n",
        "\n",
        "- Use except to catch and handle specific exceptions.\n",
        "\n",
        "- Optionally use else to run code if no exception occurs.\n",
        "\n",
        "- Use finally to run cleanup code.\n",
        "\n",
        "### 13. Why is memory management important in Python?\n",
        "Good memory management prevents memory leaks, improves performance, and ensures efficient use of resources.\n",
        "\n",
        "### 14. What is the role of try and except in exception handling?\n",
        "- try: Wraps code that might throw an error.\n",
        "\n",
        "- except: Catches and handles the error gracefully to avoid crashing the program.\n",
        "\n",
        "### 15. How does Python’s garbage collection system work?\n",
        "Python uses reference counting and a cyclic garbage collector to automatically free memory occupied by objects no longer in use.\n",
        "\n",
        "### 16. What is the purpose of the else block in exception handling?\n",
        "The else block runs only if no exceptions occur in the try block. It’s useful for code that should run only on successful execution.\n",
        "\n",
        "### 17. What are the common logging levels in Python?\n",
        "From lowest to highest severity:\n",
        "\n",
        "- DEBUG\n",
        "\n",
        "- INFO\n",
        "\n",
        "- WARNING\n",
        "\n",
        "- ERROR\n",
        "\n",
        "- CRITICAL\n",
        "\n",
        "### 18. What is the difference between os.fork() and multiprocessing in Python?\n",
        "- os.fork() creates a new process by duplicating the current one (Unix only).\n",
        "\n",
        "- multiprocessing is a cross-platform module that simplifies creating processes.\n",
        "\n",
        "### 19. What is the importance of closing a file in Python?\n",
        "Closing a file:\n",
        "\n",
        "- Flushes the buffer.\n",
        "\n",
        "- Releases system resources.\n",
        "\n",
        "- Prevents file corruption or memory leaks.\n",
        "\n",
        "### 20. What is the difference between file.read() and file.readline() in Python?\n",
        "- read(): Reads the entire file content.\n",
        "\n",
        "- readline(): Reads one line at a time.\n",
        "\n",
        "### 21. What is the logging module in Python used for?\n",
        "Used to log messages during program execution, including errors, warnings, and general information, to help in debugging and monitoring.\n",
        "\n",
        "### 22. What is the os module in Python used for in file handling?\n",
        "The os module provides functions to interact with the operating system:\n",
        "\n",
        "- Creating/deleting directories\n",
        "\n",
        "- Getting file paths\n",
        "\n",
        "- Checking file existence\n",
        "\n",
        "- File permissions\n",
        "\n",
        "### 23. What are the challenges associated with memory management in Python?\n",
        "- Handling circular references.\n",
        "\n",
        "- Avoiding memory leaks in long-running programs.\n",
        "\n",
        "- Efficient use of large data structures.\n",
        "\n",
        "### 24. How do you raise an exception manually in Python?\n",
        "Use the raise keyword:\n",
        "\n",
        "raise ValueError(\"Invalid value\")\n",
        "### 25. Why is it important to use multithreading in certain applications?\n",
        "Multithreading is useful for I/O-bound tasks (like file or network operations) where threads can run concurrently, improving responsiveness and performance.\n",
        "\n"
      ],
      "metadata": {
        "id": "UMgg7WPPdpl6"
      }
    },
    {
      "cell_type": "markdown",
      "source": [
        "## Practical Questions"
      ],
      "metadata": {
        "id": "jWbhc3AOd0eO"
      }
    },
    {
      "cell_type": "markdown",
      "source": [
        "# 1. How can you open a file for writing in Python and write a string to it?**bold text**"
      ],
      "metadata": {
        "id": "SrNNuCrBd6QY"
      }
    },
    {
      "cell_type": "code",
      "source": [
        "# Program for Question 1\n",
        "try:\n",
        "    with open(\"my_file.txt\", \"w\") as file:\n",
        "        file.write(\"Hello, this is a test string.\\n\")\n",
        "        file.write(\"This is a second line.\")\n",
        "    print(\"Successfully wrote to 'my_file.txt'\")\n",
        "except IOError as e:\n",
        "    print(f\"Error writing to file: {e}\")\n",
        ""
      ],
      "metadata": {
        "colab": {
          "base_uri": "https://localhost:8080/"
        },
        "id": "nopgF9tmeA1j",
        "outputId": "0ee78a54-fbbc-408d-9bc0-c038c54428f3"
      },
      "execution_count": 1,
      "outputs": [
        {
          "output_type": "stream",
          "name": "stdout",
          "text": [
            "Successfully wrote to 'my_file.txt'\n"
          ]
        }
      ]
    },
    {
      "cell_type": "markdown",
      "source": [
        "### 2. Write a Python program to read the contents of a file and print each line.\n"
      ],
      "metadata": {
        "id": "hkYuZN0meG4T"
      }
    },
    {
      "cell_type": "code",
      "source": [
        "def read_file(filename):\n",
        "    try:\n",
        "        with open(filename, 'r') as file:\n",
        "            for line in file:\n",
        "                print(line.strip())  # strip() removes any extra newline characters\n",
        "    except FileNotFoundError:\n",
        "        print(f\"Error: The file '{filename}' was not found.\")\n",
        "\n",
        "\n"
      ],
      "metadata": {
        "id": "1MF5nXb6eJYy"
      },
      "execution_count": 13,
      "outputs": []
    },
    {
      "cell_type": "markdown",
      "source": [
        "### 3. How would you handle a case where the file doesn't exist while trying to open it for reading?"
      ],
      "metadata": {
        "id": "fOcKjf0yesIM"
      }
    },
    {
      "cell_type": "code",
      "source": [
        "try:\n",
        "    with open('missing.txt', 'r') as f:\n",
        "        print(f.read())\n",
        "except FileNotFoundError:\n",
        "    print(\"File not found.\")"
      ],
      "metadata": {
        "colab": {
          "base_uri": "https://localhost:8080/"
        },
        "id": "cjgAI-MBev2O",
        "outputId": "453fb262-ea7b-4ea5-eb43-1ce87c61c9c2"
      },
      "execution_count": 6,
      "outputs": [
        {
          "output_type": "stream",
          "name": "stdout",
          "text": [
            "File not found.\n"
          ]
        }
      ]
    },
    {
      "cell_type": "markdown",
      "source": [
        "### 4. Write a Python script that reads from one file and writes its content to another file."
      ],
      "metadata": {
        "id": "4T0CMGUee32Y"
      }
    },
    {
      "cell_type": "code",
      "source": [
        "# Program for Question 4\n",
        "source_file = \"my_file.txt\"\n",
        "destination_file = \"my_file_copy.txt\"\n",
        "\n",
        "try:\n",
        "    with open(source_file, \"r\") as src:\n",
        "        content = src.read()\n",
        "    with open(destination_file, \"w\") as dest:\n",
        "        dest.write(content)\n",
        "    print(f\"Successfully copied content from '{source_file}' to '{destination_file}'\")\n",
        "except FileNotFoundError:\n",
        "    print(f\"Error: Source file '{source_file}' not found.\")\n",
        "except IOError as e:\n",
        "    print(f\"Error during file operation: {e}\")"
      ],
      "metadata": {
        "colab": {
          "base_uri": "https://localhost:8080/"
        },
        "id": "2L8l4xvpe6Fv",
        "outputId": "ea60a7dd-e7c7-4ea0-c4be-8bdafd18802e"
      },
      "execution_count": 8,
      "outputs": [
        {
          "output_type": "stream",
          "name": "stdout",
          "text": [
            "Successfully copied content from 'my_file.txt' to 'my_file_copy.txt'\n"
          ]
        }
      ]
    },
    {
      "cell_type": "markdown",
      "source": [
        "### 5. How would you catch and handle division by zero error in Python?"
      ],
      "metadata": {
        "id": "tblwjRQqe_oh"
      }
    },
    {
      "cell_type": "code",
      "source": [
        "try:\n",
        "    result = 10 / 0\n",
        "except ZeroDivisionError:\n",
        "    print(\"Cannot divide by zero.\")"
      ],
      "metadata": {
        "colab": {
          "base_uri": "https://localhost:8080/"
        },
        "id": "MIQjtHrpfADP",
        "outputId": "4a6f551c-67e6-40f5-83b8-935676459c23"
      },
      "execution_count": 9,
      "outputs": [
        {
          "output_type": "stream",
          "name": "stdout",
          "text": [
            "Cannot divide by zero.\n"
          ]
        }
      ]
    },
    {
      "cell_type": "markdown",
      "source": [
        "### 6. Write a Python program that logs an error message to a log file when a division by zero exception occurs."
      ],
      "metadata": {
        "id": "yZTsfr_kfDZ8"
      }
    },
    {
      "cell_type": "code",
      "source": [
        "import logging\n",
        "\n",
        "logging.basicConfig(filename='error.log', level=logging.ERROR)\n",
        "\n",
        "try:\n",
        "    5 / 0\n",
        "except ZeroDivisionError:\n",
        "    logging.error(\"Division by zero occurred.\")"
      ],
      "metadata": {
        "colab": {
          "base_uri": "https://localhost:8080/"
        },
        "id": "bIKuUWl3fDtG",
        "outputId": "ee5ee6bc-99df-4cf1-c950-ca505e7beddf"
      },
      "execution_count": 10,
      "outputs": [
        {
          "output_type": "stream",
          "name": "stderr",
          "text": [
            "ERROR:root:Division by zero occurred.\n"
          ]
        }
      ]
    },
    {
      "cell_type": "markdown",
      "source": [
        "### 7. How do you log information at different levels (INFO, ERROR, WARNING) in Python using the logging module?"
      ],
      "metadata": {
        "id": "C7UQp5QGfJMb"
      }
    },
    {
      "cell_type": "code",
      "source": [
        "import logging\n",
        "\n",
        "logging.basicConfig(level=logging.DEBUG)\n",
        "\n",
        "logging.info(\"This is info\")\n",
        "logging.warning(\"This is a warning\")\n",
        "logging.error(\"This is an error\")"
      ],
      "metadata": {
        "colab": {
          "base_uri": "https://localhost:8080/"
        },
        "id": "Uz03p6S7fLJA",
        "outputId": "5eb7124b-ee6b-4a8a-b319-5419316df095"
      },
      "execution_count": 11,
      "outputs": [
        {
          "output_type": "stream",
          "name": "stderr",
          "text": [
            "WARNING:root:This is a warning\n",
            "ERROR:root:This is an error\n"
          ]
        }
      ]
    },
    {
      "cell_type": "markdown",
      "source": [
        "### 8. Write a program to handle a file opening error using exception handling."
      ],
      "metadata": {
        "id": "crMRWSXGfaQS"
      }
    },
    {
      "cell_type": "code",
      "source": [
        "try:\n",
        "    with open('nonexistent.txt', 'r') as f:\n",
        "        data = f.read()\n",
        "except IOError as e:\n",
        "    print(\"Error opening file:\", e)"
      ],
      "metadata": {
        "colab": {
          "base_uri": "https://localhost:8080/"
        },
        "id": "2wyoqXMhfam1",
        "outputId": "a66a79c5-add6-4df3-a669-82f59e110280"
      },
      "execution_count": 12,
      "outputs": [
        {
          "output_type": "stream",
          "name": "stdout",
          "text": [
            "Error opening file: [Errno 2] No such file or directory: 'nonexistent.txt'\n"
          ]
        }
      ]
    },
    {
      "cell_type": "markdown",
      "source": [
        "### 9. How can you read a file line by line and store its content in a list in Python?\n"
      ],
      "metadata": {
        "id": "OcS3X7XCgWWX"
      }
    },
    {
      "cell_type": "code",
      "source": [
        "def file_to_list(filename):\n",
        "    try:\n",
        "        with open(filename, 'r') as file:\n",
        "            lines = file.readlines()\n",
        "        return [line.strip() for line in lines]  # Removes trailing newline characters\n",
        "    except FileNotFoundError:\n",
        "        print(f\"Error: File '{filename}' not found.\")\n",
        "        return []"
      ],
      "metadata": {
        "id": "UwSCwLExgWwv"
      },
      "execution_count": 19,
      "outputs": []
    },
    {
      "cell_type": "markdown",
      "source": [
        "### 10. How can you append data to an existing file in Python?"
      ],
      "metadata": {
        "id": "tcOLwATegoW5"
      }
    },
    {
      "cell_type": "code",
      "source": [
        "with open('example.txt', 'a') as f:\n",
        "    f.write(\"\\nAppended line.\")\n"
      ],
      "metadata": {
        "id": "GqtfzpCZgqWv"
      },
      "execution_count": 20,
      "outputs": []
    },
    {
      "cell_type": "markdown",
      "source": [
        "### 11. Write a Python program that uses a try-except block to handle an error when attempting to access a dictionary key that doesn’t exist."
      ],
      "metadata": {
        "id": "JGA0PNL2g7Xt"
      }
    },
    {
      "cell_type": "code",
      "source": [
        "my_dict = {'a': 1}\n",
        "try:\n",
        "    print(my_dict['b'])\n",
        "except KeyError:\n",
        "    print(\"Key not found in dictionary.\")"
      ],
      "metadata": {
        "colab": {
          "base_uri": "https://localhost:8080/"
        },
        "id": "xtroDIWrg7iq",
        "outputId": "6c6411b2-3b93-4edf-850f-5daba81cdb30"
      },
      "execution_count": 21,
      "outputs": [
        {
          "output_type": "stream",
          "name": "stdout",
          "text": [
            "Key not found in dictionary.\n"
          ]
        }
      ]
    },
    {
      "cell_type": "markdown",
      "source": [
        "### 12. Write a program that demonstrates using multiple except blocks to handle different types of exceptions."
      ],
      "metadata": {
        "id": "bOQW1R5Rg99y"
      }
    },
    {
      "cell_type": "code",
      "source": [
        "try:\n",
        "    x = int(\"not a number\")\n",
        "    y = 10 / 0\n",
        "except ValueError:\n",
        "    print(\"Invalid value.\")\n",
        "except ZeroDivisionError:\n",
        "    print(\"Cannot divide by zero.\")"
      ],
      "metadata": {
        "colab": {
          "base_uri": "https://localhost:8080/"
        },
        "id": "PJERVhx3hAEd",
        "outputId": "18568e61-40b0-498f-fd4c-02fa26fd1a83"
      },
      "execution_count": 22,
      "outputs": [
        {
          "output_type": "stream",
          "name": "stdout",
          "text": [
            "Invalid value.\n"
          ]
        }
      ]
    },
    {
      "cell_type": "markdown",
      "source": [
        "### 13. How would you check if a file exists before attempting to read it in Python?"
      ],
      "metadata": {
        "id": "0t68DABHhDp-"
      }
    },
    {
      "cell_type": "code",
      "source": [
        "import os\n",
        "\n",
        "if os.path.exists('example.txt'):\n",
        "    with open('example.txt', 'r') as f:\n",
        "        print(f.read())\n",
        "else:\n",
        "    print(\"File does not exist.\")"
      ],
      "metadata": {
        "colab": {
          "base_uri": "https://localhost:8080/"
        },
        "id": "DU2UPoXHhD2Z",
        "outputId": "4e690352-75aa-4d12-9098-06ecf664e4ce"
      },
      "execution_count": 23,
      "outputs": [
        {
          "output_type": "stream",
          "name": "stdout",
          "text": [
            "\n",
            "Appended line.\n"
          ]
        }
      ]
    },
    {
      "cell_type": "markdown",
      "source": [
        "### 14. Write a program that uses the logging module to log both informational and error messages.\n",
        "\n"
      ],
      "metadata": {
        "id": "p636gN1shHth"
      }
    },
    {
      "cell_type": "code",
      "source": [
        "import logging\n",
        "\n",
        "logging.basicConfig(filename='app.log', level=logging.INFO)\n",
        "logging.info(\"Program started.\")\n",
        "\n",
        "try:\n",
        "    10 / 0\n",
        "except ZeroDivisionError:\n",
        "    logging.error(\"Division by zero error.\")"
      ],
      "metadata": {
        "colab": {
          "base_uri": "https://localhost:8080/"
        },
        "id": "YfP5tZ-fhH4q",
        "outputId": "29b134e4-9d0b-4636-b564-1dc020bdbf00"
      },
      "execution_count": 24,
      "outputs": [
        {
          "output_type": "stream",
          "name": "stderr",
          "text": [
            "ERROR:root:Division by zero error.\n"
          ]
        }
      ]
    },
    {
      "cell_type": "markdown",
      "source": [
        "### 15. Write a Python program that prints the content of a file and handles the case when the file is empty."
      ],
      "metadata": {
        "id": "bHWzwGS9hMHw"
      }
    },
    {
      "cell_type": "code",
      "source": [
        "with open('example.txt', 'r') as f:\n",
        "    content = f.read()\n",
        "    if content:\n",
        "        print(content)\n",
        "    else:\n",
        "        print(\"File is empty.\")"
      ],
      "metadata": {
        "colab": {
          "base_uri": "https://localhost:8080/"
        },
        "id": "K3FZl_yAhMTg",
        "outputId": "5282bc73-b5b3-4cba-ba94-5da12293cd88"
      },
      "execution_count": 27,
      "outputs": [
        {
          "output_type": "stream",
          "name": "stdout",
          "text": [
            "\n",
            "Appended line.\n"
          ]
        }
      ]
    },
    {
      "cell_type": "markdown",
      "source": [
        "### 16. Demonstrate how to use memory profiling to check the memory usage of a small program."
      ],
      "metadata": {
        "id": "W8l3p1VdhYVi"
      }
    },
    {
      "cell_type": "code",
      "source": [
        "# Install memory_profiler: pip install memory-profiler\n",
        "from memory_profiler import profile\n",
        "\n",
        "@profile\n",
        "def test_memory():\n",
        "    a = [i for i in range(1000000)]\n",
        "    return a\n",
        "\n",
        "test_memory()"
      ],
      "metadata": {
        "colab": {
          "base_uri": "https://localhost:8080/",
          "height": 383
        },
        "id": "EQxPaH2khgOF",
        "outputId": "03bbe7b5-ec24-4830-df22-0edc6dfc7bca"
      },
      "execution_count": 32,
      "outputs": [
        {
          "output_type": "error",
          "ename": "ModuleNotFoundError",
          "evalue": "No module named 'memory_profiler'",
          "traceback": [
            "\u001b[0;31m---------------------------------------------------------------------------\u001b[0m",
            "\u001b[0;31mModuleNotFoundError\u001b[0m                       Traceback (most recent call last)",
            "\u001b[0;32m<ipython-input-32-04f5892a2801>\u001b[0m in \u001b[0;36m<cell line: 0>\u001b[0;34m()\u001b[0m\n\u001b[1;32m      1\u001b[0m \u001b[0;31m# Install memory_profiler: pip install memory-profiler\u001b[0m\u001b[0;34m\u001b[0m\u001b[0;34m\u001b[0m\u001b[0m\n\u001b[0;32m----> 2\u001b[0;31m \u001b[0;32mfrom\u001b[0m \u001b[0mmemory_profiler\u001b[0m \u001b[0;32mimport\u001b[0m \u001b[0mprofile\u001b[0m\u001b[0;34m\u001b[0m\u001b[0;34m\u001b[0m\u001b[0m\n\u001b[0m\u001b[1;32m      3\u001b[0m \u001b[0;34m\u001b[0m\u001b[0m\n\u001b[1;32m      4\u001b[0m \u001b[0;34m@\u001b[0m\u001b[0mprofile\u001b[0m\u001b[0;34m\u001b[0m\u001b[0;34m\u001b[0m\u001b[0m\n\u001b[1;32m      5\u001b[0m \u001b[0;32mdef\u001b[0m \u001b[0mtest_memory\u001b[0m\u001b[0;34m(\u001b[0m\u001b[0;34m)\u001b[0m\u001b[0;34m:\u001b[0m\u001b[0;34m\u001b[0m\u001b[0;34m\u001b[0m\u001b[0m\n",
            "\u001b[0;31mModuleNotFoundError\u001b[0m: No module named 'memory_profiler'",
            "",
            "\u001b[0;31m---------------------------------------------------------------------------\u001b[0;32m\nNOTE: If your import is failing due to a missing package, you can\nmanually install dependencies using either !pip or !apt.\n\nTo view examples of installing some common dependencies, click the\n\"Open Examples\" button below.\n\u001b[0;31m---------------------------------------------------------------------------\u001b[0m\n"
          ],
          "errorDetails": {
            "actions": [
              {
                "action": "open_url",
                "actionText": "Open Examples",
                "url": "/notebooks/snippets/importing_libraries.ipynb"
              }
            ]
          }
        }
      ]
    },
    {
      "cell_type": "markdown",
      "source": [
        "### 17. Write a Python program to create and write a list of numbers to a file, one number per line."
      ],
      "metadata": {
        "id": "uQ3dWXuyh6QL"
      }
    },
    {
      "cell_type": "code",
      "source": [
        "numbers = [1, 2, 3, 4, 5]\n",
        "with open('numbers.txt', 'w') as f:\n",
        "    for num in numbers:\n",
        "        f.write(f\"{num}\\n\")"
      ],
      "metadata": {
        "id": "J-lXidWrh72c"
      },
      "execution_count": 33,
      "outputs": []
    },
    {
      "cell_type": "markdown",
      "source": [
        "### 18. How would you implement a basic logging setup that logs to a file with rotation after 1MB?\n",
        "python\n",
        "Copy code\n"
      ],
      "metadata": {
        "id": "cpggtcWOh94x"
      }
    },
    {
      "cell_type": "code",
      "source": [
        "import logging\n",
        "from logging.handlers import RotatingFileHandler\n",
        "\n",
        "handler = RotatingFileHandler('app.log', maxBytes=1_000_000, backupCount=5)\n",
        "logging.basicConfig(handlers=[handler], level=logging.INFO)\n",
        "logging.info(\"This is a rotating log example.\")"
      ],
      "metadata": {
        "id": "DQgDXL6Kh_e_"
      },
      "execution_count": 34,
      "outputs": []
    },
    {
      "cell_type": "markdown",
      "source": [
        "### 19. Write a program that handles both IndexError and KeyError using a try-except block."
      ],
      "metadata": {
        "id": "5y6bwYgGiDLU"
      }
    },
    {
      "cell_type": "code",
      "source": [
        "try:\n",
        "    lst = [1, 2]\n",
        "    print(lst[3])\n",
        "    d = {'x': 1}\n",
        "    print(d['y'])\n",
        "except IndexError:\n",
        "    print(\"Index out of range.\")\n",
        "except KeyError:\n",
        "    print(\"Key not found.\")"
      ],
      "metadata": {
        "colab": {
          "base_uri": "https://localhost:8080/"
        },
        "id": "2ohA2UYxiEwv",
        "outputId": "0f6dba91-57ca-4c1f-a878-70c29d3a459f"
      },
      "execution_count": 35,
      "outputs": [
        {
          "output_type": "stream",
          "name": "stdout",
          "text": [
            "Index out of range.\n"
          ]
        }
      ]
    },
    {
      "cell_type": "markdown",
      "source": [
        " ### 20. How would you open a file and read its contents using a context manager in Python?"
      ],
      "metadata": {
        "id": "xrovEjjxiIpr"
      }
    },
    {
      "cell_type": "code",
      "source": [
        "with open('example.txt', 'r') as f:\n",
        "    print(f.read())"
      ],
      "metadata": {
        "colab": {
          "base_uri": "https://localhost:8080/"
        },
        "id": "GjkL84EoiI1Y",
        "outputId": "8a2f381c-49a4-44f4-d8ac-625952c64a23"
      },
      "execution_count": 36,
      "outputs": [
        {
          "output_type": "stream",
          "name": "stdout",
          "text": [
            "\n",
            "Appended line.\n"
          ]
        }
      ]
    },
    {
      "cell_type": "markdown",
      "source": [
        "### 21. Write a Python program that reads a file and prints the number of occurrences of a specific word."
      ],
      "metadata": {
        "id": "Bja3pc_XiMiw"
      }
    },
    {
      "cell_type": "code",
      "source": [
        "word = 'python'\n",
        "count = 0\n",
        "with open('example.txt', 'r') as f:\n",
        "    for line in f:\n",
        "        count += line.lower().count(word.lower())\n",
        "print(f\"Occurrences of '{word}': {count}\")"
      ],
      "metadata": {
        "colab": {
          "base_uri": "https://localhost:8080/"
        },
        "id": "kpG8tPg9iMuW",
        "outputId": "91044a78-d9aa-4c40-8a9c-b98cdab2a85a"
      },
      "execution_count": 37,
      "outputs": [
        {
          "output_type": "stream",
          "name": "stdout",
          "text": [
            "Occurrences of 'python': 0\n"
          ]
        }
      ]
    },
    {
      "cell_type": "markdown",
      "source": [
        "###  22. How can you check if a file is empty before attempting to read its contents?\n"
      ],
      "metadata": {
        "id": "SAThRJkhiQxV"
      }
    },
    {
      "cell_type": "code",
      "source": [
        "import os\n",
        "\n",
        "if os.path.getsize('example.txt') == 0:\n",
        "    print(\"File is empty.\")\n",
        "else:\n",
        "    with open('example.txt', 'r') as f:\n",
        "        print(f.read())"
      ],
      "metadata": {
        "colab": {
          "base_uri": "https://localhost:8080/"
        },
        "id": "nWt9Lhf_iQ8n",
        "outputId": "2c49358a-ccc8-44e5-a3fd-a8092dfb037e"
      },
      "execution_count": 38,
      "outputs": [
        {
          "output_type": "stream",
          "name": "stdout",
          "text": [
            "\n",
            "Appended line.\n"
          ]
        }
      ]
    },
    {
      "cell_type": "markdown",
      "source": [
        "### 23. Write a Python program that writes to a log file when an error occurs during file handling.\n"
      ],
      "metadata": {
        "id": "73-YevETiUwW"
      }
    },
    {
      "cell_type": "code",
      "source": [
        "import logging\n",
        "\n",
        "logging.basicConfig(filename='file_error.log', level=logging.ERROR)\n",
        "\n",
        "try:\n",
        "    with open('nofile.txt', 'r') as f:\n",
        "        print(f.read())\n",
        "except Exception as e:\n",
        "    logging.error(\"File handling error: %s\", str(e))"
      ],
      "metadata": {
        "colab": {
          "base_uri": "https://localhost:8080/"
        },
        "id": "jZwif1rtiU7k",
        "outputId": "ab5d8867-08cd-40e5-b95b-b4007bf284a8"
      },
      "execution_count": 39,
      "outputs": [
        {
          "output_type": "stream",
          "name": "stderr",
          "text": [
            "ERROR:root:File handling error: [Errno 2] No such file or directory: 'nofile.txt'\n"
          ]
        }
      ]
    }
  ]
}